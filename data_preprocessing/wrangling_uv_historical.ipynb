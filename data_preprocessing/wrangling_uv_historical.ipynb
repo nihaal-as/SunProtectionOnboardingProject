{
 "cells": [
  {
   "cell_type": "markdown",
   "metadata": {},
   "source": [
    "# Data Wrangling\n",
    "\n",
    "## UV Index (Historical)"
   ]
  },
  {
   "cell_type": "code",
   "execution_count": null,
   "metadata": {},
   "outputs": [
    {
     "data": {
      "text/html": [
       "<div>\n",
       "<style scoped>\n",
       "    .dataframe tbody tr th:only-of-type {\n",
       "        vertical-align: middle;\n",
       "    }\n",
       "\n",
       "    .dataframe tbody tr th {\n",
       "        vertical-align: top;\n",
       "    }\n",
       "\n",
       "    .dataframe thead th {\n",
       "        text-align: right;\n",
       "    }\n",
       "</style>\n",
       "<table border=\"1\" class=\"dataframe\">\n",
       "  <thead>\n",
       "    <tr style=\"text-align: right;\">\n",
       "      <th></th>\n",
       "      <th>timestamp</th>\n",
       "      <th>lat</th>\n",
       "      <th>lon</th>\n",
       "      <th>uv_index</th>\n",
       "    </tr>\n",
       "  </thead>\n",
       "  <tbody>\n",
       "    <tr>\n",
       "      <th>0</th>\n",
       "      <td>2019-01-01 00:00:00</td>\n",
       "      <td>-37.73</td>\n",
       "      <td>145.1</td>\n",
       "      <td>0.01</td>\n",
       "    </tr>\n",
       "    <tr>\n",
       "      <th>1</th>\n",
       "      <td>2019-01-01 00:01:00</td>\n",
       "      <td>-37.73</td>\n",
       "      <td>145.1</td>\n",
       "      <td>0.01</td>\n",
       "    </tr>\n",
       "    <tr>\n",
       "      <th>2</th>\n",
       "      <td>2019-01-01 00:02:00</td>\n",
       "      <td>-37.73</td>\n",
       "      <td>145.1</td>\n",
       "      <td>0.01</td>\n",
       "    </tr>\n",
       "    <tr>\n",
       "      <th>3</th>\n",
       "      <td>2019-01-01 00:03:00</td>\n",
       "      <td>-37.73</td>\n",
       "      <td>145.1</td>\n",
       "      <td>0.01</td>\n",
       "    </tr>\n",
       "    <tr>\n",
       "      <th>4</th>\n",
       "      <td>2019-01-01 00:04:00</td>\n",
       "      <td>-37.73</td>\n",
       "      <td>145.1</td>\n",
       "      <td>0.01</td>\n",
       "    </tr>\n",
       "  </tbody>\n",
       "</table>\n",
       "</div>"
      ],
      "text/plain": [
       "             timestamp    lat    lon  uv_index\n",
       "0  2019-01-01 00:00:00 -37.73  145.1      0.01\n",
       "1  2019-01-01 00:01:00 -37.73  145.1      0.01\n",
       "2  2019-01-01 00:02:00 -37.73  145.1      0.01\n",
       "3  2019-01-01 00:03:00 -37.73  145.1      0.01\n",
       "4  2019-01-01 00:04:00 -37.73  145.1      0.01"
      ]
     },
     "execution_count": 2,
     "metadata": {},
     "output_type": "execute_result"
    }
   ],
   "source": [
    "import pandas as pd\n",
    "import glob\n",
    "\n",
    "# Getting all CSV file\n",
    "files = glob.glob(r\"Datasets/uv-melbourne-20*.csv\")\n",
    "\n",
    "# Defining a function to read and standardize column names\n",
    "def read_and_standardize(file):\n",
    "    df = pd.read_csv(file)\n",
    "    \n",
    "    # Standardizing the column names\n",
    "    df.columns = df.columns.str.strip().str.lower().str.replace(\" \", \"_\")  \n",
    "\n",
    "    # Renaming date columns to timestamp\n",
    "    for col in df.columns:\n",
    "        if \"date\" in col or \"time\" in col:\n",
    "            df.rename(columns={col: \"timestamp\"}, inplace=True)\n",
    "    \n",
    "    return df\n",
    "\n",
    "\n",
    "# Reading and processing each file\n",
    "uv_hist_df = pd.concat([read_and_standardize(f) for f in files], ignore_index=True)\n",
    "uv_hist_df.head()\n"
   ]
  },
  {
   "cell_type": "code",
   "execution_count": 3,
   "metadata": {},
   "outputs": [],
   "source": [
    "# Exporting to CSV\n",
    "uv_hist_df.to_csv(\"uv_historical.csv\")"
   ]
  }
 ],
 "metadata": {
  "kernelspec": {
   "display_name": "Python 3",
   "language": "python",
   "name": "python3"
  },
  "language_info": {
   "codemirror_mode": {
    "name": "ipython",
    "version": 3
   },
   "file_extension": ".py",
   "mimetype": "text/x-python",
   "name": "python",
   "nbconvert_exporter": "python",
   "pygments_lexer": "ipython3",
   "version": "3.11.4"
  }
 },
 "nbformat": 4,
 "nbformat_minor": 2
}
